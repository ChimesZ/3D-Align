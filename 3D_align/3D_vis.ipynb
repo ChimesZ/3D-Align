{
 "cells": [
  {
   "cell_type": "code",
   "execution_count": 1,
   "metadata": {},
   "outputs": [],
   "source": [
    "import numpy as np\n",
    "import pandas as pd\n",
    "import open3d as o3"
   ]
  },
  {
   "cell_type": "code",
   "execution_count": 3,
   "metadata": {},
   "outputs": [],
   "source": [
    "def import_raw_data(path):\n",
    "    '''Import raw point cloud data from .txt, returun point_cloud class'''\n",
    "    points_data = np.loadtxt(path)\n",
    "    point_cloud = o3.geometry.PointCloud()\n",
    "    point_cloud.points = o3.utility.Vector3dVector(points_data)\n",
    "    return point_cloud\n"
   ]
  },
  {
   "cell_type": "code",
   "execution_count": 3,
   "metadata": {},
   "outputs": [
    {
     "name": "stdout",
     "output_type": "stream",
     "text": [
      "\u001b[1;33m[Open3D WARNING] GLFW Error: Cocoa: Failed to find service port for display\u001b[0;m\n",
      "\u001b[1;33m[Open3D WARNING] GLFW Error: Cocoa: Failed to find service port for display\u001b[0;m\n",
      "\u001b[1;33m[Open3D WARNING] GLFW Error: Cocoa: Failed to find service port for display\u001b[0;m\n",
      "\u001b[1;33m[Open3D WARNING] GLFW Error: Cocoa: Failed to find service port for display\u001b[0;m\n",
      "\u001b[1;33m[Open3D WARNING] GLFW Error: Cocoa: Failed to find service port for display\u001b[0;m\n",
      "\u001b[1;33m[Open3D WARNING] GLFW Error: Cocoa: Failed to find service port for display\u001b[0;m\n",
      "\u001b[1;33m[Open3D WARNING] GLFW Error: Cocoa: Failed to find service port for display\u001b[0;m\n"
     ]
    }
   ],
   "source": [
    "import resource\n",
    "\n",
    "source_path = \"/Users/apple/YiLab/Resoursces/3D Align/sample/MASK_DG green 1st recall_A01_G001_0001.oir - C=0.txt\"\n",
    "target_path = \"/Users/apple/YiLab/Resoursces/3D Align/sample/MASK_DG green 2nd recall_A01_G001_0001.oir - C=0.txt\"\n",
    "result_path = \"/Users/apple/YiLab/Resoursces/3D Align/sample/result_green.txt\"\n",
    "points_data_re = np.loadtxt(\"/Users/apple/YiLab/Resoursces/3D Align/sample/result_green.txt\")\n",
    "points_data_source = np.loadtxt(\"/Users/apple/YiLab/Resoursces/3D Align/sample/MASK_DG green 1st recall_A01_G001_0001.oir - C=0.txt\")\n",
    "points_data_target = np.loadtxt(\"/Users/apple/YiLab/Resoursces/3D Align/sample/MASK_DG green 2nd recall_A01_G001_0001.oir - C=0.txt\")\n",
    "result = o3.geometry.PointCloud()\n",
    "source = o3.geometry.PointCloud()\n",
    "target = o3.geometry.PointCloud()\n",
    "result.points = o3.utility.Vector3dVector(points_data_re)\n",
    "source.points = o3.utility.Vector3dVector(points_data_source)\n",
    "target.points = o3.utility.Vector3dVector(points_data_target)\n",
    "source.paint_uniform_color([1, 0, 0])\n",
    "target.paint_uniform_color([0, 1, 0])\n",
    "result.paint_uniform_color([0, 0, 1])\n",
    "o3.visualization.draw_geometries([target, result])"
   ]
  },
  {
   "cell_type": "code",
   "execution_count": 2,
   "metadata": {},
   "outputs": [
    {
     "ename": "",
     "evalue": "",
     "output_type": "error",
     "traceback": [
      "\u001b[1;31mThe Kernel crashed while executing code in the the current cell or a previous cell. Please review the code in the cell(s) to identify a possible cause of the failure. Click <a href='https://aka.ms/vscodeJupyterKernelCrash'>here</a> for more info. View Jupyter <a href='command:jupyter.viewOutput'>log</a> for further details."
     ]
    }
   ],
   "source": [
    "points_data_re = np.loadtxt(\"/Users/apple/YiLab/Resoursces/3D Align/sample/result_high_reso.txt\")\n",
    "points_data_source = np.loadtxt(\"/Users/apple/YiLab/Resoursces/3D Align/sample/DG red 1st recall_A01_G001_0001.oir - C=0.txt\")\n",
    "points_data_target = np.loadtxt(\"/Users/apple/YiLab/Resoursces/3D Align/sample/DG red 2nd recall_A01_G001_0001.oir - C=0.txt\")\n",
    "result = o3.geometry.PointCloud()\n",
    "source = o3.geometry.PointCloud()\n",
    "target = o3.geometry.PointCloud()\n",
    "result.points = o3.utility.Vector3dVector(points_data_re)\n",
    "source.points = o3.utility.Vector3dVector(points_data_source)\n",
    "target.points = o3.utility.Vector3dVector(points_data_target)\n",
    "source.paint_uniform_color([1, 0, 0])\n",
    "target.paint_uniform_color([0, 1, 0])\n",
    "result.paint_uniform_color([0, 0, 1])\n",
    "o3.visualization.draw_geometries([target, source])"
   ]
  },
  {
   "cell_type": "code",
   "execution_count": 3,
   "metadata": {},
   "outputs": [
    {
     "ename": "",
     "evalue": "",
     "output_type": "error",
     "traceback": [
      "\u001b[1;31mThe Kernel crashed while executing code in the the current cell or a previous cell. Please review the code in the cell(s) to identify a possible cause of the failure. Click <a href='https://aka.ms/vscodeJupyterKernelCrash'>here</a> for more info. View Jupyter <a href='command:jupyter.viewOutput'>log</a> for further details."
     ]
    }
   ],
   "source": [
    "source_path = \"/Users/apple/YiLab/Resoursces/3D Align/sample/MASK_DG green 1st recall_A01_G001_0001.oir - C=0.txt\"\n",
    "target_path = \"/Users/apple/YiLab/Resoursces/3D Align/sample/MASK_DG green 2nd recall_A01_G001_0001.oir - C=0.txt\"\n",
    "result_path = \"/Users/apple/YiLab/Resoursces/3D Align/sample/result_green.txt\"\n",
    "result = import_raw_data(result_path)\n",
    "result_round = o3.geometry.PointCloud()\n",
    "result_round.points = o3.utility.Vector3dVector(np.round(np.loadtxt(result_path))) # 取整函数\n",
    "result.paint_uniform_color([1,0,0])\n",
    "result_round.paint_uniform_color([0,1,0])\n",
    "o3.visualization.draw_geometries([result,result_round])"
   ]
  },
  {
   "cell_type": "code",
   "execution_count": 4,
   "metadata": {},
   "outputs": [
    {
     "ename": "",
     "evalue": "",
     "output_type": "error",
     "traceback": [
      "\u001b[1;31mThe Kernel crashed while executing code in the the current cell or a previous cell. Please review the code in the cell(s) to identify a possible cause of the failure. Click <a href='https://aka.ms/vscodeJupyterKernelCrash'>here</a> for more info. View Jupyter <a href='command:jupyter.viewOutput'>log</a> for further details."
     ]
    }
   ],
   "source": [
    "# red_path = \"/Users/apple/YiLab/Resoursces/3D Align/JR/pre DG stack.oir - C=0.txt\"\n",
    "# green_path = \"/Users/apple/YiLab/Resoursces/3D Align/JR/pre DG stack.oir - C=1.txt\"\n",
    "# red = import_raw_data(red_path)\n",
    "# green = import_raw_data(green_path)\n",
    "# red.paint_uniform_color([1,0,0])\n",
    "# green.paint_uniform_color([0,1,0])\n",
    "# o3.visualization.draw_geometries([red,green])"
   ]
  },
  {
   "cell_type": "code",
   "execution_count": 7,
   "metadata": {},
   "outputs": [
    {
     "data": {
      "text/plain": [
       "array([[302., 164.,  56.],\n",
       "       [249., 336.,  55.],\n",
       "       [250., 337.,  55.],\n",
       "       ...,\n",
       "       [179., 398.,  28.],\n",
       "       [176., 397.,  27.],\n",
       "       [182., 396.,  28.]])"
      ]
     },
     "execution_count": 7,
     "metadata": {},
     "output_type": "execute_result"
    }
   ],
   "source": [
    "(np.round(np.loadtxt(result_path)))"
   ]
  },
  {
   "cell_type": "code",
   "execution_count": 13,
   "metadata": {},
   "outputs": [
    {
     "data": {
      "text/plain": [
       "50"
      ]
     },
     "execution_count": 13,
     "metadata": {},
     "output_type": "execute_result"
    }
   ],
   "source": [
    "import numpy as np\n",
    "import pandas as pd\n",
    "import open3d as o3\n",
    "import matplotlib.pyplot as plt\n",
    "\n",
    "def import_raw_data(path):\n",
    "    '''Import raw point cloud data from .txt, returun point_cloud class'''\n",
    "    points_data = np.loadtxt(path)\n",
    "    point_cloud = o3.geometry.PointCloud()\n",
    "    point_cloud.points = o3.utility.Vector3dVector(points_data)\n",
    "    return point_cloud\n",
    "\n",
    "path = \"/Users/apple/YiLab/Resoursces/3D Align/sample/MASK_DG green 1st recall_A01_G001_0001.oir - C=0.txt\"\n",
    "pcd = o3.geometry.PointCloud()\n",
    "pcd.points = o3.utility.Vector3dVector(np.round(np.loadtxt(path)))\n",
    "labels = np.array(pcd.cluster_dbscan(eps=2, min_points=20))\n",
    "max_label = labels.max()\n",
    "colors = plt.get_cmap(\"tab20\")(labels / (max_label \n",
    "if max_label > 0 else 1))\n",
    "colors[labels < 0] = 0\n",
    "pcd.colors = o3.utility.Vector3dVector(colors[:, :3])\n",
    "# o3.visualization.draw_geometries([pcd])\n",
    "\n",
    "labels.max()"
   ]
  }
 ],
 "metadata": {
  "kernelspec": {
   "display_name": "Python 3.8.5 ('freq-u')",
   "language": "python",
   "name": "python3"
  },
  "language_info": {
   "codemirror_mode": {
    "name": "ipython",
    "version": 3
   },
   "file_extension": ".py",
   "mimetype": "text/x-python",
   "name": "python",
   "nbconvert_exporter": "python",
   "pygments_lexer": "ipython3",
   "version": "3.8.5"
  },
  "orig_nbformat": 4,
  "vscode": {
   "interpreter": {
    "hash": "ec68de76f025817d78ac7598be1625726c8e68d7c90ba087e2c3c50418b03240"
   }
  }
 },
 "nbformat": 4,
 "nbformat_minor": 2
}
