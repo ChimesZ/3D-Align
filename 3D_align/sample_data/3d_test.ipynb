{
 "cells": [
  {
   "cell_type": "code",
   "execution_count": 1,
   "metadata": {},
   "outputs": [
    {
     "name": "stdout",
     "output_type": "stream",
     "text": [
      "Jupyter environment detected. Enabling Open3D WebVisualizer.\n",
      "[Open3D INFO] WebRTC GUI backend enabled.\n",
      "[Open3D INFO] WebRTCWindowSystem: HTTP handshake server disabled.\n"
     ]
    }
   ],
   "source": [
    "import numpy as np\n",
    "use_cuda = True\n",
    "if use_cuda:\n",
    "    import cupy as cp\n",
    "    to_cpu = cp.asnumpy\n",
    "    cp.cuda.set_allocator(cp.cuda.MemoryPool().malloc)\n",
    "else:\n",
    "    cp = np\n",
    "    to_cpu = lambda x: x\n",
    "import open3d as o3\n",
    "from probreg import cpd\n",
    "from probreg import callbacks\n",
    "import utils\n",
    "import time\n",
    "import copy\n",
    "\n"
   ]
  },
  {
   "cell_type": "code",
   "execution_count": 2,
   "metadata": {},
   "outputs": [
    {
     "name": "stdout",
     "output_type": "stream",
     "text": [
      "PointCloud with 18168 points.\n",
      "PointCloud with 18163 points.\n"
     ]
    }
   ],
   "source": [
    "source, target = utils.prepare_source_and_target_nonrigid_3d('/home/zhongzh/Experiment/3D_align/sample_data/DG red 1st recall_A01_G001_0001.oir - C=0.txt', '/home/zhongzh/Experiment/3D_align/sample_data/DG red 2nd recall_A01_G001_0001.oir - C=0.txt',voxel_size=2)\n",
    "source = cp.asarray(source.points, dtype=cp.float32)\n",
    "target = cp.asarray(target.points, dtype=cp.float32)\n",
    "\n",
    "acpd = cpd.AffineCPD(source, use_cuda=use_cuda)\n",
    "start = time.time()\n",
    "tf_param, _, _ = acpd.registration(target)\n"
   ]
  },
  {
   "cell_type": "code",
   "execution_count": 3,
   "metadata": {},
   "outputs": [],
   "source": [
    "result = copy.deepcopy(source)\n",
    "result = tf_param.transform(result)\n",
    "cp.savetxt(\"/home/zhongzh/Experiment/3D_align/sample_data/result_high_reso.txt\",result)\n"
   ]
  },
  {
   "cell_type": "code",
   "execution_count": 5,
   "metadata": {},
   "outputs": [
    {
     "name": "stdout",
     "output_type": "stream",
     "text": [
      "PointCloud with 9682 points.\n",
      "PointCloud with 9682 points.\n"
     ]
    }
   ],
   "source": [
    "source_green, _ = utils.prepare_source_and_target_nonrigid_3d('/home/zhongzh/Experiment/3D_align/sample_data/MASK_DG green 1st recall_A01_G001_0001.oir - C=0.txt', '/home/zhongzh/Experiment/3D_align/sample_data/MASK_DG green 1st recall_A01_G001_0001.oir - C=0.txt',voxel_size=1)\n",
    "source_green = cp.asarray(source_green.points, dtype=cp.float32)\n",
    "result_green = copy.deepcopy(source_green)\n",
    "result_green - tf_param.transform(result_green)\n",
    "\n",
    "cp.savetxt(\"/home/zhongzh/Experiment/3D_align/sample_data/result_green_high_reso.txt\",result)"
   ]
  }
 ],
 "metadata": {
  "kernelspec": {
   "display_name": "Python 3.9.12 ('base': conda)",
   "language": "python",
   "name": "python3"
  },
  "language_info": {
   "codemirror_mode": {
    "name": "ipython",
    "version": 3
   },
   "file_extension": ".py",
   "mimetype": "text/x-python",
   "name": "python",
   "nbconvert_exporter": "python",
   "pygments_lexer": "ipython3",
   "version": "3.9.12"
  },
  "orig_nbformat": 4,
  "vscode": {
   "interpreter": {
    "hash": "a915b736de3bb6b34e06b76f93c6a2139d2cc8355ea6152ceda5fd476f0750a4"
   }
  }
 },
 "nbformat": 4,
 "nbformat_minor": 2
}
